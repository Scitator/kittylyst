{
 "cells": [
  {
   "cell_type": "markdown",
   "metadata": {},
   "source": [
    "###  Kittylyst demo"
   ]
  },
  {
   "cell_type": "code",
   "execution_count": null,
   "metadata": {},
   "outputs": [],
   "source": [
    "import random\n",
    "import numpy as np\n",
    "import matplotlib.pyplot as plt\n",
    "from sklearn.datasets import make_moons, make_blobs\n",
    "%matplotlib inline"
   ]
  },
  {
   "cell_type": "code",
   "execution_count": null,
   "metadata": {},
   "outputs": [],
   "source": [
    "from micrograd.engine import Value\n",
    "from micrograd.nn import Neuron, Layer, MLP"
   ]
  },
  {
   "cell_type": "code",
   "execution_count": null,
   "metadata": {},
   "outputs": [],
   "source": [
    "# from kittylyst import (\n",
    "#     MicroLoader, MicroCriterion, MicroOptimizer, MicroScheduler,\n",
    "#     SingleStageExperiment, IRunner,SupervisedRunner, ICallback,\n",
    "#     CriterionCallback, AccuracyCallback, \n",
    "#     OptimizerCallback, SchedulerCallback,\n",
    "#     LoggerCallback\n",
    "# )"
   ]
  },
  {
   "cell_type": "code",
   "execution_count": null,
   "metadata": {},
   "outputs": [],
   "source": [
    "from kittylyst import *"
   ]
  },
  {
   "cell_type": "code",
   "execution_count": null,
   "metadata": {},
   "outputs": [],
   "source": [
    "# make up a dataset\n",
    "def make_dataset(seed=42, n_samples=100):\n",
    "    np.random.seed(seed)\n",
    "    random.seed(seed)\n",
    "    X, y = make_moons(n_samples=100, noise=0.1)\n",
    "\n",
    "    y = y*2 - 1 # make y be -1 or 1\n",
    "    return X, y\n",
    "\n",
    "def visualize_dataset(X, y):\n",
    "    plt.figure(figsize=(5,5))\n",
    "    plt.scatter(X[:,0], X[:,1], c=y, s=20, cmap='jet')\n",
    "\n",
    "# let's create train data\n",
    "X_train, y_train = make_dataset()\n",
    "visualize_dataset(X_train, y_train)"
   ]
  },
  {
   "cell_type": "code",
   "execution_count": null,
   "metadata": {},
   "outputs": [],
   "source": [
    "# valid data\n",
    "X_valid, y_valid = make_dataset(seed=137)\n",
    "visualize_dataset(X_valid, y_valid)"
   ]
  },
  {
   "cell_type": "code",
   "execution_count": null,
   "metadata": {},
   "outputs": [],
   "source": [
    "# and another train one (why not?)\n",
    "X_train2, y_train2 = make_dataset(seed=1337)\n",
    "visualize_dataset(X_train2, y_train2)"
   ]
  },
  {
   "cell_type": "code",
   "execution_count": null,
   "metadata": {},
   "outputs": [],
   "source": [
    "# initialize a model \n",
    "model = MLP(2, [16, 16, 1]) # 2-layer neural network\n",
    "print(model)\n",
    "print(\"number of parameters\", len(model.parameters()))"
   ]
  },
  {
   "cell_type": "code",
   "execution_count": null,
   "metadata": {},
   "outputs": [],
   "source": [
    "def visualize_decision_boundary(X, y, model):\n",
    "    h = 0.25\n",
    "    x_min, x_max = X[:, 0].min() - 1, X[:, 0].max() + 1\n",
    "    y_min, y_max = X[:, 1].min() - 1, X[:, 1].max() + 1\n",
    "    xx, yy = np.meshgrid(np.arange(x_min, x_max, h),\n",
    "                         np.arange(y_min, y_max, h))\n",
    "    Xmesh = np.c_[xx.ravel(), yy.ravel()]\n",
    "    inputs = [list(map(Value, xrow)) for xrow in Xmesh]\n",
    "    scores = list(map(model, inputs))\n",
    "    Z = np.array([s.data > 0 for s in scores])\n",
    "    Z = Z.reshape(xx.shape)\n",
    "\n",
    "    fig = plt.figure()\n",
    "    plt.contourf(xx, yy, Z, cmap=plt.cm.Spectral, alpha=0.8)\n",
    "    plt.scatter(X[:, 0], X[:, 1], c=y, s=40, cmap=plt.cm.Spectral)\n",
    "    plt.xlim(xx.min(), xx.max())\n",
    "    plt.ylim(yy.min(), yy.max())\n",
    "    plt.show()"
   ]
  },
  {
   "cell_type": "code",
   "execution_count": null,
   "metadata": {},
   "outputs": [],
   "source": [
    "visualize_decision_boundary(X_valid, y_valid, model)"
   ]
  },
  {
   "cell_type": "code",
   "execution_count": null,
   "metadata": {
    "pycharm": {
     "name": "#%%\n"
    }
   },
   "outputs": [],
   "source": [
    "loaders = {\n",
    "    \"train_1\": MicroLoader(X_train, y_train), \n",
    "    \"train_2\": MicroLoader(X_train2, y_train2), \n",
    "    \"valid\": MicroLoader(X_valid, y_valid), \n",
    "}"
   ]
  },
  {
   "cell_type": "markdown",
   "metadata": {},
   "source": [
    "---"
   ]
  },
  {
   "cell_type": "markdown",
   "metadata": {
    "pycharm": {
     "name": "#%% md\n"
    }
   },
   "source": [
    "### Act 1 - ``CustomRunner`` solution\n",
    "\n",
    "Suppose you have your favorite `for-loop` pipeline and want to get rid of `for-for-for` stuff to make code more clean. In this case you can define your own ``CustomRunner`` with ``_handle_batch`` method and just run it.\n",
    "\n",
    "Whole ``Runner`` source code is located [here](github.com/Scitator/kittylyst/blob/master/kittylyst/runner.py) (~100 lines of code)."
   ]
  },
  {
   "cell_type": "code",
   "execution_count": null,
   "metadata": {
    "pycharm": {
     "name": "#%%\n"
    },
    "scrolled": true
   },
   "outputs": [],
   "source": [
    "model = MLP(2, [16, 16, 1])\n",
    "experiment = SingleStageExperiment(model=model, loaders=loaders, num_epochs=10)\n",
    "\n",
    "class CustomRunner(IRunner):\n",
    "    def _handle_batch(self, batch):\n",
    "        features, targets = batch\n",
    "        scores = list(map(self.model, features))\n",
    "        \n",
    "        losses = [(1 + -yi*scorei).relu() for yi, scorei in zip(targets, scores)]\n",
    "        data_loss = sum(losses) * (1.0 / len(losses))\n",
    "        # L2 regularization\n",
    "        alpha = 1e-4\n",
    "        reg_loss = alpha * sum((p*p for p in self.model.parameters()))\n",
    "        total_loss = data_loss + reg_loss\n",
    "\n",
    "        # also get accuracy\n",
    "        accuracy = [(yi > 0) == (scorei.data > 0) for yi, scorei in zip(targets, scores)]\n",
    "        accuracy = sum(accuracy) / len(accuracy)\n",
    "        \n",
    "        print(f\"{self.loader_key}: accuracy {accuracy}, loss {total_loss.data}\")\n",
    "        \n",
    "        if self.is_train_loader:\n",
    "            # backward\n",
    "            self.model.zero_grad()\n",
    "            total_loss.backward()\n",
    "\n",
    "            # update (sgd)\n",
    "            learning_rate = 1.0 - 0.9 * self.stage_epoch / self.stage_len\n",
    "            for p in self.model.parameters():\n",
    "                p.data -= learning_rate * p.grad\n",
    "\n",
    "CustomRunner().run_experiment(experiment)"
   ]
  },
  {
   "cell_type": "code",
   "execution_count": null,
   "metadata": {},
   "outputs": [],
   "source": [
    "visualize_decision_boundary(X_valid, y_valid, model)"
   ]
  },
  {
   "cell_type": "markdown",
   "metadata": {},
   "source": [
    "---"
   ]
  },
  {
   "cell_type": "markdown",
   "metadata": {
    "pycharm": {
     "name": "#%% md\n"
    }
   },
   "source": [
    "### Act 2 - ``SupervisedRunner`` solution\n",
    "\n",
    "Let's make a bit more abstract. Let's introduce ``SupervisedRunner``, that knows how to execute Supervised models and ``CriterionCallback/OptimizerCallback/SchedulerCallback`` for typical criterions/optimizers/schedulers steps. \n",
    "\n",
    "Additionaly let's wrap accuracy with ``AccuracyCallback``, as far as metrics are general too. \n",
    "\n",
    "Finally, let's make our logs looks consistent with ``LoggerCallback``.\n",
    "\n",
    "Whole ``Callback`` source code is located [here](github.com/Scitator/kittylyst/blob/master/kittylyst/callback.py) (~100 lines of code)."
   ]
  },
  {
   "cell_type": "code",
   "execution_count": null,
   "metadata": {
    "pycharm": {
     "name": "#%%\n"
    },
    "scrolled": false
   },
   "outputs": [],
   "source": [
    "model = MLP(2, [16, 16, 1])\n",
    "criterion = MicroCriterion()\n",
    "optimizer = MicroOptimizer(model)\n",
    "scheduler = MicroScheduler(optimizer, num_epochs=10)\n",
    "experiment = SingleStageExperiment(\n",
    "    model=model, \n",
    "    criterion=criterion, \n",
    "    optimizer=optimizer, \n",
    "    scheduler=scheduler,\n",
    "    loaders=loaders, \n",
    "    num_epochs=10,\n",
    "    callbacks={\n",
    "        \"criterion\": CriterionCallback(), \n",
    "        \"accuracy\": MetricCallback(metric=AccuracyMetric(), input_key=\"targets\", output_key=\"logits\"), \n",
    "        \"optimizer\": OptimizerCallback(), \n",
    "        \"scheduler\": SchedulerCallback(),\n",
    "#         \"verbose\": VerboseCallback(),\n",
    "    },\n",
    "    loggers={\n",
    "#         \"console\": ConsoleLogger(exclude=[\"batch\", \"global_batch\", \"loader\", \"global_epoch\"]),\n",
    "        \"console\": ConsoleLogger(include=[\"loader\"]),\n",
    "    }\n",
    ")\n",
    "\n",
    "SupervisedRunner().run_experiment(experiment)"
   ]
  },
  {
   "cell_type": "code",
   "execution_count": null,
   "metadata": {},
   "outputs": [],
   "source": [
    "visualize_decision_boundary(X_valid, y_valid, model)"
   ]
  },
  {
   "cell_type": "markdown",
   "metadata": {
    "pycharm": {
     "name": "#%% md\n"
    }
   },
   "source": [
    "---"
   ]
  },
  {
   "cell_type": "markdown",
   "metadata": {},
   "source": [
    "### Act 3 - ``CustomExperiment`` solution - multi-stage experiment with ``VisualizationCallback``\n",
    "\n",
    "Let's go even harder. Suppose we want to firstly train our model on `train_1` data, and only after that - on `train_2`. This case could be easily handled with ``CustomExperiment``, where you could redefine your experiment components for each stage of your experiment.\n",
    "\n",
    "Whole ``Experiemnt`` source code is located [here](github.com/Scitator/kittylyst/blob/master/kittylyst/experiment.py) (~100 lines of code)."
   ]
  },
  {
   "cell_type": "code",
   "execution_count": null,
   "metadata": {},
   "outputs": [],
   "source": [
    "class CustomExperiment(Experiment):\n",
    "    @property\n",
    "    def stages(self):\n",
    "        return self._stage\n",
    "\n",
    "    def get_loaders(self, stage: str):\n",
    "        return self._loaders[stage]\n",
    "\n",
    "    \n",
    "class VisualizationCallback(Callback):\n",
    "    def on_stage_end(self, runner):\n",
    "        visualize_decision_boundary(X_valid, y_valid, runner.model)\n",
    "\n",
    "\n",
    "loaders = {\n",
    "    \"loader_1\": {\n",
    "        \"train_1\": MicroLoader(X_train, y_train), \n",
    "        \"valid\": MicroLoader(X_valid, y_valid), \n",
    "    },\n",
    "    \"loader_2\": {\n",
    "        \"train_2\": MicroLoader(X_train2, y_train2), \n",
    "        \"valid\": MicroLoader(X_valid, y_valid), \n",
    "    },\n",
    "}\n",
    "model = MLP(2, [16, 16, 1])\n",
    "criterion = MicroCriterion()\n",
    "optimizer = MicroOptimizer(model)\n",
    "scheduler = MicroScheduler(optimizer, num_epochs=10)\n",
    "experiment = CustomExperiment(\n",
    "    model=model, \n",
    "    criterion=criterion, \n",
    "    optimizer=optimizer, \n",
    "    scheduler=scheduler,\n",
    "    loaders=loaders, \n",
    "    num_epochs=10,\n",
    "    callbacks=[\n",
    "        CriterionCallback(), \n",
    "        AccuracyCallback(), \n",
    "        OptimizerCallback(), \n",
    "        SchedulerCallback(),\n",
    "        LoggerCallback(),\n",
    "        VisualizationCallback(),  # <-- here is our new Callback\n",
    "    ],\n",
    "    verbose=False,\n",
    "    stage=loaders.keys()  # <-- here is the trick for multi-stage support\n",
    ")\n",
    "\n",
    "SupervisedRunner().run_experiment(experiment)"
   ]
  },
  {
   "cell_type": "code",
   "execution_count": null,
   "metadata": {
    "pycharm": {
     "name": "#%%\n"
    }
   },
   "outputs": [],
   "source": [
    "visualize_decision_boundary(X_valid, y_valid, model)"
   ]
  },
  {
   "cell_type": "markdown",
   "metadata": {},
   "source": [
    "---"
   ]
  },
  {
   "cell_type": "markdown",
   "metadata": {},
   "source": [
    "🎉 You have passed ``Kittylyst`` tutorial! This is just a minimal educational demo, but I hope you found it interesting for your deep learning research code organisation.\n",
    "\n",
    "For more advanced and production-ready solution please follow our [Catalyst](https://github.com/catalyst-team/catalyst) repository.\n",
    "\n",
    "PS. If you are interested in deep learning you could also try out our [dl-course](https://github.com/catalyst-team/dl-course)."
   ]
  },
  {
   "cell_type": "code",
   "execution_count": null,
   "metadata": {},
   "outputs": [],
   "source": []
  }
 ],
 "metadata": {
  "kernelspec": {
   "display_name": "Python [conda env:py37] *",
   "language": "python",
   "name": "conda-env-py37-py"
  },
  "language_info": {
   "codemirror_mode": {
    "name": "ipython",
    "version": 3
   },
   "file_extension": ".py",
   "mimetype": "text/x-python",
   "name": "python",
   "nbconvert_exporter": "python",
   "pygments_lexer": "ipython3",
   "version": "3.7.7"
  }
 },
 "nbformat": 4,
 "nbformat_minor": 2
}
